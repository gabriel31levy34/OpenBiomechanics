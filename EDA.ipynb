{
 "cells": [
  {
   "cell_type": "code",
   "execution_count": 1,
   "id": "4e56c859-6984-472f-a392-fb77e0a7b6e1",
   "metadata": {},
   "outputs": [],
   "source": [
    "import numpy as np\n",
    "import pandas as pd\n",
    "import zipfile\n",
    "import matplotlib.pyplot as plt\n",
    "import seaborn as sns"
   ]
  },
  {
   "cell_type": "code",
   "execution_count": 2,
   "id": "0c96c472-51a7-40bb-bacf-fa4a59cca18b",
   "metadata": {},
   "outputs": [],
   "source": [
    "pitching_path = 'baseball_pitching/data/'\n",
    "hitting_path = 'baseball_hitting/data/'"
   ]
  },
  {
   "cell_type": "code",
   "execution_count": 3,
   "id": "4b818a66-89f5-4be3-a1d7-1b663aae4402",
   "metadata": {},
   "outputs": [],
   "source": [
    "poi = pd.read_csv(pitching_path + 'poi/poi_metrics.csv')"
   ]
  },
  {
   "cell_type": "code",
   "execution_count": 4,
   "id": "df9be29a-2224-4a90-89f9-4cb23a182f20",
   "metadata": {},
   "outputs": [],
   "source": [
    "metadata = pd.read_csv(pitching_path + 'metadata.csv')"
   ]
  },
  {
   "cell_type": "code",
   "execution_count": 5,
   "id": "80c73372-7f7d-4af5-a744-bdf37e691f9e",
   "metadata": {},
   "outputs": [
    {
     "data": {
      "text/plain": [
       "Index(['session_pitch', 'session', 'p_throws', 'pitch_type', 'pitch_speed_mph',\n",
       "       'max_shoulder_internal_rotational_velo', 'max_elbow_extension_velo',\n",
       "       'max_torso_rotational_velo', 'max_rotation_hip_shoulder_separation',\n",
       "       'max_elbow_flexion', 'max_shoulder_external_rotation',\n",
       "       'elbow_flexion_fp', 'elbow_pronation_fp',\n",
       "       'rotation_hip_shoulder_separation_fp',\n",
       "       'shoulder_horizontal_abduction_fp', 'shoulder_abduction_fp',\n",
       "       'shoulder_external_rotation_fp', 'lead_knee_extension_angular_velo_fp',\n",
       "       'lead_knee_extension_angular_velo_br',\n",
       "       'lead_knee_extension_angular_velo_max', 'torso_anterior_tilt_fp',\n",
       "       'torso_lateral_tilt_fp', 'torso_rotation_fp', 'pelvis_anterior_tilt_fp',\n",
       "       'pelvis_lateral_tilt_fp', 'pelvis_rotation_fp', 'max_cog_velo_x',\n",
       "       'torso_rotation_min', 'max_pelvis_rotational_velo',\n",
       "       'glove_shoulder_horizontal_abduction_fp', 'glove_shoulder_abduction_fp',\n",
       "       'glove_shoulder_external_rotation_fp', 'glove_shoulder_abduction_mer',\n",
       "       'elbow_flexion_mer', 'torso_anterior_tilt_mer',\n",
       "       'torso_lateral_tilt_mer', 'torso_rotation_mer', 'elbow_varus_moment',\n",
       "       'shoulder_internal_rotation_moment', 'torso_anterior_tilt_br',\n",
       "       'torso_lateral_tilt_br', 'torso_rotation_br',\n",
       "       'lead_knee_extension_from_fp_to_br', 'cog_velo_pkh', 'stride_length',\n",
       "       'stride_angle', 'arm_slot', 'timing_peak_torso_to_peak_pelvis_rot_velo',\n",
       "       'max_shoulder_horizontal_abduction', 'shoulder_transfer_fp_br',\n",
       "       'shoulder_generation_fp_br', 'shoulder_absorption_fp_br',\n",
       "       'elbow_transfer_fp_br', 'elbow_generation_fp_br',\n",
       "       'elbow_absorption_fp_br', 'lead_hip_transfer_fp_br',\n",
       "       'lead_hip_generation_fp_br', 'lead_hip_absorption_fp_br',\n",
       "       'lead_knee_transfer_fp_br', 'lead_knee_generation_fp_br',\n",
       "       'lead_knee_absorption_fp_br', 'rear_hip_transfer_pkh_fp',\n",
       "       'rear_hip_generation_pkh_fp', 'rear_hip_absorption_pkh_fp',\n",
       "       'rear_knee_transfer_pkh_fp', 'rear_knee_generation_pkh_fp',\n",
       "       'rear_knee_absorption_pkh_fp', 'pelvis_lumbar_transfer_fp_br',\n",
       "       'thorax_distal_transfer_fp_br', 'rear_grf_x_max', 'rear_grf_y_max',\n",
       "       'rear_grf_z_max', 'rear_grf_mag_max', 'rear_grf_angle_at_max',\n",
       "       'lead_grf_x_max', 'lead_grf_y_max', 'lead_grf_z_max',\n",
       "       'lead_grf_mag_max', 'lead_grf_angle_at_max', 'peak_rfd_rear',\n",
       "       'peak_rfd_lead'],\n",
       "      dtype='object')"
      ]
     },
     "execution_count": 5,
     "metadata": {},
     "output_type": "execute_result"
    }
   ],
   "source": [
    "poi.columns"
   ]
  },
  {
   "cell_type": "code",
   "execution_count": 6,
   "id": "99849af2-a82c-4399-b86f-1d1d6cd5c93e",
   "metadata": {},
   "outputs": [
    {
     "data": {
      "text/plain": [
       "Index(['user', 'session', 'session_pitch', 'session_mass_kg',\n",
       "       'session_height_m', 'age_yrs', 'playing_level', 'pitch_speed_mph',\n",
       "       'filename_new', 'modelname_new'],\n",
       "      dtype='object')"
      ]
     },
     "execution_count": 6,
     "metadata": {},
     "output_type": "execute_result"
    }
   ],
   "source": [
    "metadata.columns"
   ]
  },
  {
   "cell_type": "code",
   "execution_count": 7,
   "id": "e56c6214-d5c7-4455-b25e-70a35176d0c3",
   "metadata": {},
   "outputs": [],
   "source": [
    "metadata.drop(columns=['session', 'pitch_speed_mph', 'filename_new'], axis=1, inplace=True)"
   ]
  },
  {
   "cell_type": "code",
   "execution_count": 8,
   "id": "cd182bc2-cd5c-4a0b-92f2-f0d26626f775",
   "metadata": {},
   "outputs": [
    {
     "data": {
      "text/html": [
       "<div>\n",
       "<style scoped>\n",
       "    .dataframe tbody tr th:only-of-type {\n",
       "        vertical-align: middle;\n",
       "    }\n",
       "\n",
       "    .dataframe tbody tr th {\n",
       "        vertical-align: top;\n",
       "    }\n",
       "\n",
       "    .dataframe thead th {\n",
       "        text-align: right;\n",
       "    }\n",
       "</style>\n",
       "<table border=\"1\" class=\"dataframe\">\n",
       "  <thead>\n",
       "    <tr style=\"text-align: right;\">\n",
       "      <th></th>\n",
       "      <th>session_pitch</th>\n",
       "      <th>session</th>\n",
       "      <th>p_throws</th>\n",
       "      <th>pitch_type</th>\n",
       "      <th>pitch_speed_mph</th>\n",
       "      <th>max_shoulder_internal_rotational_velo</th>\n",
       "      <th>max_elbow_extension_velo</th>\n",
       "      <th>max_torso_rotational_velo</th>\n",
       "      <th>max_rotation_hip_shoulder_separation</th>\n",
       "      <th>max_elbow_flexion</th>\n",
       "      <th>...</th>\n",
       "      <th>lead_grf_mag_max</th>\n",
       "      <th>lead_grf_angle_at_max</th>\n",
       "      <th>peak_rfd_rear</th>\n",
       "      <th>peak_rfd_lead</th>\n",
       "      <th>user</th>\n",
       "      <th>session_mass_kg</th>\n",
       "      <th>session_height_m</th>\n",
       "      <th>age_yrs</th>\n",
       "      <th>playing_level</th>\n",
       "      <th>modelname_new</th>\n",
       "    </tr>\n",
       "  </thead>\n",
       "  <tbody>\n",
       "    <tr>\n",
       "      <th>0</th>\n",
       "      <td>1031_2</td>\n",
       "      <td>1031</td>\n",
       "      <td>R</td>\n",
       "      <td>FF</td>\n",
       "      <td>90.4</td>\n",
       "      <td>4533.2480</td>\n",
       "      <td>2445.8177</td>\n",
       "      <td>958.0878</td>\n",
       "      <td>32.3152</td>\n",
       "      <td>109.9971</td>\n",
       "      <td>...</td>\n",
       "      <td>2782.9580</td>\n",
       "      <td>63.3501</td>\n",
       "      <td>11.6564</td>\n",
       "      <td>170.4620</td>\n",
       "      <td>750</td>\n",
       "      <td>110.6784</td>\n",
       "      <td>1.9304</td>\n",
       "      <td>21.40</td>\n",
       "      <td>college</td>\n",
       "      <td>000750_001031_model.c3d</td>\n",
       "    </tr>\n",
       "    <tr>\n",
       "      <th>1</th>\n",
       "      <td>1031_3</td>\n",
       "      <td>1031</td>\n",
       "      <td>R</td>\n",
       "      <td>FF</td>\n",
       "      <td>90.4</td>\n",
       "      <td>4571.1735</td>\n",
       "      <td>2389.5438</td>\n",
       "      <td>969.5766</td>\n",
       "      <td>32.5547</td>\n",
       "      <td>109.1065</td>\n",
       "      <td>...</td>\n",
       "      <td>3038.8913</td>\n",
       "      <td>62.3087</td>\n",
       "      <td>9.5715</td>\n",
       "      <td>183.6636</td>\n",
       "      <td>750</td>\n",
       "      <td>110.6784</td>\n",
       "      <td>1.9304</td>\n",
       "      <td>21.40</td>\n",
       "      <td>college</td>\n",
       "      <td>000750_001031_model.c3d</td>\n",
       "    </tr>\n",
       "    <tr>\n",
       "      <th>2</th>\n",
       "      <td>1097_1</td>\n",
       "      <td>1097</td>\n",
       "      <td>R</td>\n",
       "      <td>FF</td>\n",
       "      <td>77.6</td>\n",
       "      <td>4165.3055</td>\n",
       "      <td>2426.3029</td>\n",
       "      <td>1090.2269</td>\n",
       "      <td>33.1477</td>\n",
       "      <td>123.4752</td>\n",
       "      <td>...</td>\n",
       "      <td>2010.5341</td>\n",
       "      <td>61.5594</td>\n",
       "      <td>4.4432</td>\n",
       "      <td>52.9333</td>\n",
       "      <td>774</td>\n",
       "      <td>101.1528</td>\n",
       "      <td>1.9304</td>\n",
       "      <td>19.41</td>\n",
       "      <td>college</td>\n",
       "      <td>000774_001097_model.c3d</td>\n",
       "    </tr>\n",
       "    <tr>\n",
       "      <th>3</th>\n",
       "      <td>1097_2</td>\n",
       "      <td>1097</td>\n",
       "      <td>R</td>\n",
       "      <td>FF</td>\n",
       "      <td>77.0</td>\n",
       "      <td>3832.1715</td>\n",
       "      <td>2424.0493</td>\n",
       "      <td>1105.2275</td>\n",
       "      <td>27.9286</td>\n",
       "      <td>124.6578</td>\n",
       "      <td>...</td>\n",
       "      <td>1864.0488</td>\n",
       "      <td>66.6789</td>\n",
       "      <td>6.4897</td>\n",
       "      <td>54.3727</td>\n",
       "      <td>774</td>\n",
       "      <td>101.1528</td>\n",
       "      <td>1.9304</td>\n",
       "      <td>19.41</td>\n",
       "      <td>college</td>\n",
       "      <td>000774_001097_model.c3d</td>\n",
       "    </tr>\n",
       "    <tr>\n",
       "      <th>4</th>\n",
       "      <td>1097_3</td>\n",
       "      <td>1097</td>\n",
       "      <td>R</td>\n",
       "      <td>FF</td>\n",
       "      <td>76.1</td>\n",
       "      <td>3970.7971</td>\n",
       "      <td>2497.6253</td>\n",
       "      <td>1110.4850</td>\n",
       "      <td>28.9909</td>\n",
       "      <td>124.8308</td>\n",
       "      <td>...</td>\n",
       "      <td>2283.1749</td>\n",
       "      <td>65.9014</td>\n",
       "      <td>7.2019</td>\n",
       "      <td>106.2719</td>\n",
       "      <td>774</td>\n",
       "      <td>101.1528</td>\n",
       "      <td>1.9304</td>\n",
       "      <td>19.41</td>\n",
       "      <td>college</td>\n",
       "      <td>000774_001097_model.c3d</td>\n",
       "    </tr>\n",
       "    <tr>\n",
       "      <th>...</th>\n",
       "      <td>...</td>\n",
       "      <td>...</td>\n",
       "      <td>...</td>\n",
       "      <td>...</td>\n",
       "      <td>...</td>\n",
       "      <td>...</td>\n",
       "      <td>...</td>\n",
       "      <td>...</td>\n",
       "      <td>...</td>\n",
       "      <td>...</td>\n",
       "      <td>...</td>\n",
       "      <td>...</td>\n",
       "      <td>...</td>\n",
       "      <td>...</td>\n",
       "      <td>...</td>\n",
       "      <td>...</td>\n",
       "      <td>...</td>\n",
       "      <td>...</td>\n",
       "      <td>...</td>\n",
       "      <td>...</td>\n",
       "      <td>...</td>\n",
       "    </tr>\n",
       "    <tr>\n",
       "      <th>406</th>\n",
       "      <td>3252_1</td>\n",
       "      <td>3252</td>\n",
       "      <td>R</td>\n",
       "      <td>FF</td>\n",
       "      <td>80.8</td>\n",
       "      <td>4494.0446</td>\n",
       "      <td>2759.7142</td>\n",
       "      <td>1129.4168</td>\n",
       "      <td>42.9000</td>\n",
       "      <td>123.5448</td>\n",
       "      <td>...</td>\n",
       "      <td>1891.2377</td>\n",
       "      <td>63.0494</td>\n",
       "      <td>6307.8100</td>\n",
       "      <td>72742.9029</td>\n",
       "      <td>870</td>\n",
       "      <td>88.4520</td>\n",
       "      <td>1.8796</td>\n",
       "      <td>20.38</td>\n",
       "      <td>college</td>\n",
       "      <td>000870_003252_model.c3d</td>\n",
       "    </tr>\n",
       "    <tr>\n",
       "      <th>407</th>\n",
       "      <td>3252_2</td>\n",
       "      <td>3252</td>\n",
       "      <td>R</td>\n",
       "      <td>FF</td>\n",
       "      <td>80.8</td>\n",
       "      <td>4550.4618</td>\n",
       "      <td>2742.8536</td>\n",
       "      <td>1129.4417</td>\n",
       "      <td>43.5008</td>\n",
       "      <td>123.5490</td>\n",
       "      <td>...</td>\n",
       "      <td>1932.4776</td>\n",
       "      <td>61.7749</td>\n",
       "      <td>7850.2644</td>\n",
       "      <td>77906.1103</td>\n",
       "      <td>870</td>\n",
       "      <td>88.4520</td>\n",
       "      <td>1.8796</td>\n",
       "      <td>20.38</td>\n",
       "      <td>college</td>\n",
       "      <td>000870_003252_model.c3d</td>\n",
       "    </tr>\n",
       "    <tr>\n",
       "      <th>408</th>\n",
       "      <td>3252_3</td>\n",
       "      <td>3252</td>\n",
       "      <td>R</td>\n",
       "      <td>FF</td>\n",
       "      <td>80.8</td>\n",
       "      <td>4580.0385</td>\n",
       "      <td>2796.3719</td>\n",
       "      <td>1133.8676</td>\n",
       "      <td>43.7838</td>\n",
       "      <td>125.6560</td>\n",
       "      <td>...</td>\n",
       "      <td>1858.1106</td>\n",
       "      <td>62.8667</td>\n",
       "      <td>16303.1697</td>\n",
       "      <td>77777.3331</td>\n",
       "      <td>870</td>\n",
       "      <td>88.4520</td>\n",
       "      <td>1.8796</td>\n",
       "      <td>20.38</td>\n",
       "      <td>college</td>\n",
       "      <td>000870_003252_model.c3d</td>\n",
       "    </tr>\n",
       "    <tr>\n",
       "      <th>409</th>\n",
       "      <td>3252_4</td>\n",
       "      <td>3252</td>\n",
       "      <td>R</td>\n",
       "      <td>FF</td>\n",
       "      <td>83.3</td>\n",
       "      <td>4638.4414</td>\n",
       "      <td>2815.9331</td>\n",
       "      <td>1119.5235</td>\n",
       "      <td>43.0352</td>\n",
       "      <td>127.5534</td>\n",
       "      <td>...</td>\n",
       "      <td>1863.5780</td>\n",
       "      <td>63.3718</td>\n",
       "      <td>11758.9779</td>\n",
       "      <td>77382.0300</td>\n",
       "      <td>870</td>\n",
       "      <td>88.4520</td>\n",
       "      <td>1.8796</td>\n",
       "      <td>20.38</td>\n",
       "      <td>college</td>\n",
       "      <td>000870_003252_model.c3d</td>\n",
       "    </tr>\n",
       "    <tr>\n",
       "      <th>410</th>\n",
       "      <td>3252_5</td>\n",
       "      <td>3252</td>\n",
       "      <td>R</td>\n",
       "      <td>FF</td>\n",
       "      <td>81.2</td>\n",
       "      <td>4585.8845</td>\n",
       "      <td>2814.0260</td>\n",
       "      <td>1099.2458</td>\n",
       "      <td>41.8970</td>\n",
       "      <td>127.1583</td>\n",
       "      <td>...</td>\n",
       "      <td>1864.6253</td>\n",
       "      <td>62.4244</td>\n",
       "      <td>10192.3263</td>\n",
       "      <td>78881.2664</td>\n",
       "      <td>870</td>\n",
       "      <td>88.4520</td>\n",
       "      <td>1.8796</td>\n",
       "      <td>20.38</td>\n",
       "      <td>college</td>\n",
       "      <td>000870_003252_model.c3d</td>\n",
       "    </tr>\n",
       "  </tbody>\n",
       "</table>\n",
       "<p>411 rows × 87 columns</p>\n",
       "</div>"
      ],
      "text/plain": [
       "    session_pitch  session p_throws pitch_type  pitch_speed_mph  \\\n",
       "0          1031_2     1031        R         FF             90.4   \n",
       "1          1031_3     1031        R         FF             90.4   \n",
       "2          1097_1     1097        R         FF             77.6   \n",
       "3          1097_2     1097        R         FF             77.0   \n",
       "4          1097_3     1097        R         FF             76.1   \n",
       "..            ...      ...      ...        ...              ...   \n",
       "406        3252_1     3252        R         FF             80.8   \n",
       "407        3252_2     3252        R         FF             80.8   \n",
       "408        3252_3     3252        R         FF             80.8   \n",
       "409        3252_4     3252        R         FF             83.3   \n",
       "410        3252_5     3252        R         FF             81.2   \n",
       "\n",
       "     max_shoulder_internal_rotational_velo  max_elbow_extension_velo  \\\n",
       "0                                4533.2480                 2445.8177   \n",
       "1                                4571.1735                 2389.5438   \n",
       "2                                4165.3055                 2426.3029   \n",
       "3                                3832.1715                 2424.0493   \n",
       "4                                3970.7971                 2497.6253   \n",
       "..                                     ...                       ...   \n",
       "406                              4494.0446                 2759.7142   \n",
       "407                              4550.4618                 2742.8536   \n",
       "408                              4580.0385                 2796.3719   \n",
       "409                              4638.4414                 2815.9331   \n",
       "410                              4585.8845                 2814.0260   \n",
       "\n",
       "     max_torso_rotational_velo  max_rotation_hip_shoulder_separation  \\\n",
       "0                     958.0878                               32.3152   \n",
       "1                     969.5766                               32.5547   \n",
       "2                    1090.2269                               33.1477   \n",
       "3                    1105.2275                               27.9286   \n",
       "4                    1110.4850                               28.9909   \n",
       "..                         ...                                   ...   \n",
       "406                  1129.4168                               42.9000   \n",
       "407                  1129.4417                               43.5008   \n",
       "408                  1133.8676                               43.7838   \n",
       "409                  1119.5235                               43.0352   \n",
       "410                  1099.2458                               41.8970   \n",
       "\n",
       "     max_elbow_flexion  ...  lead_grf_mag_max  lead_grf_angle_at_max  \\\n",
       "0             109.9971  ...         2782.9580                63.3501   \n",
       "1             109.1065  ...         3038.8913                62.3087   \n",
       "2             123.4752  ...         2010.5341                61.5594   \n",
       "3             124.6578  ...         1864.0488                66.6789   \n",
       "4             124.8308  ...         2283.1749                65.9014   \n",
       "..                 ...  ...               ...                    ...   \n",
       "406           123.5448  ...         1891.2377                63.0494   \n",
       "407           123.5490  ...         1932.4776                61.7749   \n",
       "408           125.6560  ...         1858.1106                62.8667   \n",
       "409           127.5534  ...         1863.5780                63.3718   \n",
       "410           127.1583  ...         1864.6253                62.4244   \n",
       "\n",
       "     peak_rfd_rear  peak_rfd_lead  user  session_mass_kg  session_height_m  \\\n",
       "0          11.6564       170.4620   750         110.6784            1.9304   \n",
       "1           9.5715       183.6636   750         110.6784            1.9304   \n",
       "2           4.4432        52.9333   774         101.1528            1.9304   \n",
       "3           6.4897        54.3727   774         101.1528            1.9304   \n",
       "4           7.2019       106.2719   774         101.1528            1.9304   \n",
       "..             ...            ...   ...              ...               ...   \n",
       "406      6307.8100     72742.9029   870          88.4520            1.8796   \n",
       "407      7850.2644     77906.1103   870          88.4520            1.8796   \n",
       "408     16303.1697     77777.3331   870          88.4520            1.8796   \n",
       "409     11758.9779     77382.0300   870          88.4520            1.8796   \n",
       "410     10192.3263     78881.2664   870          88.4520            1.8796   \n",
       "\n",
       "     age_yrs  playing_level            modelname_new  \n",
       "0      21.40        college  000750_001031_model.c3d  \n",
       "1      21.40        college  000750_001031_model.c3d  \n",
       "2      19.41        college  000774_001097_model.c3d  \n",
       "3      19.41        college  000774_001097_model.c3d  \n",
       "4      19.41        college  000774_001097_model.c3d  \n",
       "..       ...            ...                      ...  \n",
       "406    20.38        college  000870_003252_model.c3d  \n",
       "407    20.38        college  000870_003252_model.c3d  \n",
       "408    20.38        college  000870_003252_model.c3d  \n",
       "409    20.38        college  000870_003252_model.c3d  \n",
       "410    20.38        college  000870_003252_model.c3d  \n",
       "\n",
       "[411 rows x 87 columns]"
      ]
     },
     "execution_count": 8,
     "metadata": {},
     "output_type": "execute_result"
    }
   ],
   "source": [
    "poi_metadata = poi.merge(metadata, left_on='session_pitch', right_on='session_pitch', how='left')\n",
    "poi_metadata"
   ]
  },
  {
   "cell_type": "code",
   "execution_count": 9,
   "id": "f69a4cc1-fc5e-419b-983d-2905c21801bb",
   "metadata": {},
   "outputs": [],
   "source": [
    "high_school = poi_metadata[poi_metadata.playing_level == 'high_school']\n",
    "college = poi_metadata[poi_metadata.playing_level == 'college']\n",
    "pro = poi_metadata[poi_metadata.playing_level.isin(['independent', 'milb'])]"
   ]
  },
  {
   "cell_type": "code",
   "execution_count": 10,
   "id": "f92b039e-8deb-4752-8d6e-e1dedca8c8b1",
   "metadata": {},
   "outputs": [
    {
     "name": "stdout",
     "output_type": "stream",
     "text": [
      "32 314 65\n"
     ]
    }
   ],
   "source": [
    "print(len(high_school), len(college), len(pro))"
   ]
  },
  {
   "cell_type": "code",
   "execution_count": 11,
   "id": "54d741a4-45e1-4fc5-8f3f-763c934160cb",
   "metadata": {},
   "outputs": [
    {
     "data": {
      "text/plain": [
       "<Axes: >"
      ]
     },
     "execution_count": 11,
     "metadata": {},
     "output_type": "execute_result"
    },
    {
     "data": {
      "image/png": "[encoded data removed]",
      "text/plain": [
       "<Figure size 640x480 with 1 Axes>"
      ]
     },
     "metadata": {},
     "output_type": "display_data"
    }
   ],
   "source": [
    "poi_metadata.pitch_speed_mph.hist(density=True)"
   ]
  },
  {
   "cell_type": "code",
   "execution_count": 12,
   "id": "d89b6977-352c-4820-b5c2-a5cfff8be6bb",
   "metadata": {},
   "outputs": [
    {
     "data": {
      "text/plain": [
       "<Axes: >"
      ]
     },
     "execution_count": 12,
     "metadata": {},
     "output_type": "execute_result"
    },
    {
     "data": {
      "image/png": "[encoded data removed]",
      "text/plain": [
       "<Figure size 640x480 with 1 Axes>"
      ]
     },
     "metadata": {},
     "output_type": "display_data"
    }
   ],
   "source": [
    "high_school.pitch_speed_mph.hist(density=True)"
   ]
  },
  {
   "cell_type": "code",
   "execution_count": 13,
   "id": "54d90ea1-9458-42a1-96f7-6c5174411488",
   "metadata": {},
   "outputs": [
    {
     "data": {
      "text/plain": [
       "<Axes: >"
      ]
     },
     "execution_count": 13,
     "metadata": {},
     "output_type": "execute_result"
    },
    {
     "data": {
      "image/png": "[encoded data removed]",
      "text/plain": [
       "<Figure size 640x480 with 1 Axes>"
      ]
     },
     "metadata": {},
     "output_type": "display_data"
    }
   ],
   "source": [
    "college.pitch_speed_mph.hist(density=True)"
   ]
  },
  {
   "cell_type": "code",
   "execution_count": 14,
   "id": "8858ed80-8238-40bf-a2ff-b2810fd1a7a0",
   "metadata": {},
   "outputs": [
    {
     "data": {
      "text/plain": [
       "<Axes: >"
      ]
     },
     "execution_count": 14,
     "metadata": {},
     "output_type": "execute_result"
    },
    {
     "data": {
      "image/png": "[encoded data removed]",
      "text/plain": [
       "<Figure size 640x480 with 1 Axes>"
      ]
     },
     "metadata": {},
     "output_type": "display_data"
    }
   ],
   "source": [
    "pro.pitch_speed_mph.hist(density=True)"
   ]
  },
  {
   "cell_type": "code",
   "execution_count": 15,
   "id": "44e2e094-a646-40fc-af1c-4831f551872f",
   "metadata": {},
   "outputs": [
    {
     "data": {
      "text/html": [
       "<div>\n",
       "<style scoped>\n",
       "    .dataframe tbody tr th:only-of-type {\n",
       "        vertical-align: middle;\n",
       "    }\n",
       "\n",
       "    .dataframe tbody tr th {\n",
       "        vertical-align: top;\n",
       "    }\n",
       "\n",
       "    .dataframe thead th {\n",
       "        text-align: right;\n",
       "    }\n",
       "</style>\n",
       "<table border=\"1\" class=\"dataframe\">\n",
       "  <thead>\n",
       "    <tr style=\"text-align: right;\">\n",
       "      <th></th>\n",
       "      <th>session_pitch</th>\n",
       "      <th>session</th>\n",
       "      <th>p_throws</th>\n",
       "      <th>pitch_type</th>\n",
       "      <th>pitch_speed_mph</th>\n",
       "      <th>max_shoulder_internal_rotational_velo</th>\n",
       "      <th>max_elbow_extension_velo</th>\n",
       "      <th>max_torso_rotational_velo</th>\n",
       "      <th>max_rotation_hip_shoulder_separation</th>\n",
       "      <th>max_elbow_flexion</th>\n",
       "      <th>...</th>\n",
       "      <th>lead_grf_mag_max</th>\n",
       "      <th>lead_grf_angle_at_max</th>\n",
       "      <th>peak_rfd_rear</th>\n",
       "      <th>peak_rfd_lead</th>\n",
       "      <th>user</th>\n",
       "      <th>session_mass_kg</th>\n",
       "      <th>session_height_m</th>\n",
       "      <th>age_yrs</th>\n",
       "      <th>playing_level</th>\n",
       "      <th>modelname_new</th>\n",
       "    </tr>\n",
       "  </thead>\n",
       "  <tbody>\n",
       "  </tbody>\n",
       "</table>\n",
       "<p>0 rows × 87 columns</p>\n",
       "</div>"
      ],
      "text/plain": [
       "Empty DataFrame\n",
       "Columns: [session_pitch, session, p_throws, pitch_type, pitch_speed_mph, max_shoulder_internal_rotational_velo, max_elbow_extension_velo, max_torso_rotational_velo, max_rotation_hip_shoulder_separation, max_elbow_flexion, max_shoulder_external_rotation, elbow_flexion_fp, elbow_pronation_fp, rotation_hip_shoulder_separation_fp, shoulder_horizontal_abduction_fp, shoulder_abduction_fp, shoulder_external_rotation_fp, lead_knee_extension_angular_velo_fp, lead_knee_extension_angular_velo_br, lead_knee_extension_angular_velo_max, torso_anterior_tilt_fp, torso_lateral_tilt_fp, torso_rotation_fp, pelvis_anterior_tilt_fp, pelvis_lateral_tilt_fp, pelvis_rotation_fp, max_cog_velo_x, torso_rotation_min, max_pelvis_rotational_velo, glove_shoulder_horizontal_abduction_fp, glove_shoulder_abduction_fp, glove_shoulder_external_rotation_fp, glove_shoulder_abduction_mer, elbow_flexion_mer, torso_anterior_tilt_mer, torso_lateral_tilt_mer, torso_rotation_mer, elbow_varus_moment, shoulder_internal_rotation_moment, torso_anterior_tilt_br, torso_lateral_tilt_br, torso_rotation_br, lead_knee_extension_from_fp_to_br, cog_velo_pkh, stride_length, stride_angle, arm_slot, timing_peak_torso_to_peak_pelvis_rot_velo, max_shoulder_horizontal_abduction, shoulder_transfer_fp_br, shoulder_generation_fp_br, shoulder_absorption_fp_br, elbow_transfer_fp_br, elbow_generation_fp_br, elbow_absorption_fp_br, lead_hip_transfer_fp_br, lead_hip_generation_fp_br, lead_hip_absorption_fp_br, lead_knee_transfer_fp_br, lead_knee_generation_fp_br, lead_knee_absorption_fp_br, rear_hip_transfer_pkh_fp, rear_hip_generation_pkh_fp, rear_hip_absorption_pkh_fp, rear_knee_transfer_pkh_fp, rear_knee_generation_pkh_fp, rear_knee_absorption_pkh_fp, pelvis_lumbar_transfer_fp_br, thorax_distal_transfer_fp_br, rear_grf_x_max, rear_grf_y_max, rear_grf_z_max, rear_grf_mag_max, rear_grf_angle_at_max, lead_grf_x_max, lead_grf_y_max, lead_grf_z_max, lead_grf_mag_max, lead_grf_angle_at_max, peak_rfd_rear, peak_rfd_lead, user, session_mass_kg, session_height_m, age_yrs, playing_level, modelname_new]\n",
       "Index: []\n",
       "\n",
       "[0 rows x 87 columns]"
      ]
     },
     "execution_count": 15,
     "metadata": {},
     "output_type": "execute_result"
    }
   ],
   "source": [
    "poi_metadata[poi_metadata.pitch_type != 'FF']"
   ]
  },
  {
   "cell_type": "code",
   "execution_count": 16,
   "id": "6c6f75d3-b821-43f7-97f1-336262113cde",
   "metadata": {},
   "outputs": [],
   "source": [
    "pitching_full_sig_path = pitching_path + 'full_sig/'\n",
    "energy_flow = pd.read_csv(pitching_full_sig_path + 'energy_flow.csv')\n",
    "force_plate = pd.read_csv(pitching_full_sig_path + 'force_plate.csv')\n",
    "forces_moments = pd.read_csv(pitching_full_sig_path + 'forces_moments.csv')\n",
    "joint_angles = pd.read_csv(pitching_full_sig_path + 'joint_angles.csv')\n",
    "joint_velos = pd.read_csv(pitching_full_sig_path + 'joint_velos.csv')\n",
    "landmarks = pd.read_csv(pitching_full_sig_path + 'landmarks.csv')"
   ]
  },
  {
   "cell_type": "code",
   "execution_count": 17,
   "id": "419b6a3b-1a1a-490e-818b-13c0b4354fd1",
   "metadata": {},
   "outputs": [
    {
     "data": {
      "text/plain": [
       "Index(['session_pitch', 'time', 'rear_knee_energy_transfer_stp',\n",
       "       'rear_knee_energy_transfer_jfp', 'rear_knee_energy_generated',\n",
       "       'lead_knee_energy_transfer_stp', 'lead_knee_energy_transfer_jfp',\n",
       "       'lead_knee_energy_generated', 'rear_hip_energy_transfer_stp',\n",
       "       'rear_hip_energy_transfer_jfp', 'rear_hip_energy_generated',\n",
       "       'lead_hip_energy_transfer_stp', 'lead_hip_energy_transfer_jfp',\n",
       "       'lead_hip_energy_generated', 'elbow_energy_transfer_stp',\n",
       "       'elbow_energy_transfer_jfp', 'elbow_energy_generated',\n",
       "       'glove_elbow_energy_transfer_stp', 'glove_elbow_energy_transfer_jfp',\n",
       "       'glove_elbow_energy_generated', 'shoulder_energy_transfer_stp',\n",
       "       'shoulder_energy_transfer_jfp', 'shoulder_energy_generated',\n",
       "       'glove_shoulder_energy_transfer_stp',\n",
       "       'glove_shoulder_energy_transfer_jfp', 'glove_shoulder_energy_generated',\n",
       "       'glove_upper_arm_dist_seg_pwr', 'glove_upper_arm_prox_seg_pwr',\n",
       "       'glove_forearm_dist_seg_pwr', 'glove_forearm_prox_seg_pwr',\n",
       "       'lead_shank_dist_seg_pwr', 'lead_shank_prox_seg_pwr',\n",
       "       'lead_thigh_dist_seg_pwr', 'lead_thigh_prox_seg_pwr',\n",
       "       'upper_arm_dist_seg_pwr', 'upper_arm_prox_seg_pwr',\n",
       "       'forearm_dist_seg_pwr', 'forearm_prox_seg_pwr',\n",
       "       'pelvis_leadhip_seg_pwr', 'pelvis_rearhip_seg_pwr',\n",
       "       'pelvis_thorax_seg_pwr', 'rear_shank_dist_seg_pwr',\n",
       "       'rear_shank_prox_seg_pwr', 'thorax_dist_glove_seg_pwr',\n",
       "       'thorax_dist_seg_pwr', 'thorax_prox_seg_pwr', 'rear_thigh_dist_seg_pwr',\n",
       "       'rear_thigh_prox_seg_pwr', 'pkh_time', 'fp_10_time', 'fp_100_time',\n",
       "       'MER_time', 'BR_time', 'MIR_time'],\n",
       "      dtype='object')"
      ]
     },
     "execution_count": 17,
     "metadata": {},
     "output_type": "execute_result"
    }
   ],
   "source": [
    "energy_flow.columns"
   ]
  },
  {
   "cell_type": "code",
   "execution_count": 18,
   "id": "9b7b9d0c-7819-461d-b3ba-a1ecee6792be",
   "metadata": {},
   "outputs": [
    {
     "data": {
      "text/plain": [
       "Index(['session_pitch', 'time', 'rear_force_x', 'rear_force_y', 'rear_force_z',\n",
       "       'lead_force_x', 'lead_force_y', 'lead_force_z', 'pkh_time',\n",
       "       'fp_10_time', 'fp_100_time', 'MER_time', 'BR_time', 'MIR_time'],\n",
       "      dtype='object')"
      ]
     },
     "execution_count": 18,
     "metadata": {},
     "output_type": "execute_result"
    }
   ],
   "source": [
    "force_plate.columns"
   ]
  },
  {
   "cell_type": "code",
   "execution_count": 19,
   "id": "96672267-d82b-43bd-ac5b-b4233aff11c9",
   "metadata": {},
   "outputs": [
    {
     "data": {
      "text/plain": [
       "Index(['session_pitch', 'time', 'rear_ankle_moment_x', 'rear_ankle_moment_y',\n",
       "       'rear_ankle_moment_z', 'elbow_moment_x', 'elbow_moment_y',\n",
       "       'elbow_moment_z', 'rear_hip_rear_thigh_moment_x',\n",
       "       'rear_hip_rear_thigh_moment_y',\n",
       "       ...\n",
       "       'glove_shoulder_thorax_force_z', 'glove_wrist_force_x',\n",
       "       'glove_wrist_force_y', 'glove_wrist_force_z', 'pkh_time', 'fp_10_time',\n",
       "       'fp_100_time', 'MER_time', 'BR_time', 'MIR_time'],\n",
       "      dtype='object', length=104)"
      ]
     },
     "execution_count": 19,
     "metadata": {},
     "output_type": "execute_result"
    }
   ],
   "source": [
    "forces_moments.columns"
   ]
  },
  {
   "cell_type": "code",
   "execution_count": 20,
   "id": "c4e8275d-bd7b-43d9-a981-b13cd7dbfc50",
   "metadata": {},
   "outputs": [
    {
     "data": {
      "text/plain": [
       "Index(['session_pitch', 'time', 'rear_ankle_angle_x', 'rear_ankle_angle_y',\n",
       "       'rear_ankle_angle_z', 'elbow_angle_x', 'elbow_angle_y', 'elbow_angle_z',\n",
       "       'rear_hip_angle_x', 'rear_hip_angle_y', 'rear_hip_angle_z',\n",
       "       'rear_knee_angle_x', 'rear_knee_angle_y', 'rear_knee_angle_z',\n",
       "       'shoulder_angle_x', 'shoulder_angle_y', 'shoulder_angle_z',\n",
       "       'wrist_angle_x', 'wrist_angle_y', 'wrist_angle_z', 'pelvis_angle_x',\n",
       "       'pelvis_angle_y', 'pelvis_angle_z', 'lead_ankle_angle_x',\n",
       "       'lead_ankle_angle_y', 'lead_ankle_angle_z', 'glove_elbow_angle_x',\n",
       "       'glove_elbow_angle_y', 'glove_elbow_angle_z', 'lead_hip_angle_x',\n",
       "       'lead_hip_angle_y', 'lead_hip_angle_z', 'lead_knee_angle_x',\n",
       "       'lead_knee_angle_y', 'lead_knee_angle_z', 'glove_shoulder_angle_x',\n",
       "       'glove_shoulder_angle_y', 'glove_shoulder_angle_z',\n",
       "       'glove_wrist_angle_x', 'glove_wrist_angle_y', 'glove_wrist_angle_z',\n",
       "       'torso_angle_x', 'torso_angle_y', 'torso_angle_z',\n",
       "       'torso_pelvis_angle_x', 'torso_pelvis_angle_y', 'torso_pelvis_angle_z',\n",
       "       'pkh_time', 'fp_10_time', 'fp_100_time', 'MER_time', 'BR_time',\n",
       "       'MIR_time'],\n",
       "      dtype='object')"
      ]
     },
     "execution_count": 20,
     "metadata": {},
     "output_type": "execute_result"
    }
   ],
   "source": [
    "joint_angles.columns"
   ]
  },
  {
   "cell_type": "code",
   "execution_count": 21,
   "id": "712d6add-a482-4e22-8183-4b4889b60051",
   "metadata": {},
   "outputs": [
    {
     "data": {
      "text/plain": [
       "Index(['session_pitch', 'time', 'elbow_velo_x', 'elbow_velo_y', 'elbow_velo_z',\n",
       "       'rear_hip_velo_x', 'rear_hip_velo_y', 'rear_hip_velo_z',\n",
       "       'rear_knee_velo_x', 'rear_knee_velo_y', 'rear_knee_velo_z',\n",
       "       'shoulder_velo_x', 'shoulder_velo_y', 'shoulder_velo_z', 'wrist_velo_x',\n",
       "       'wrist_velo_y', 'wrist_velo_z', 'pelvis_velo_x', 'pelvis_velo_y',\n",
       "       'pelvis_velo_z', 'glove_elbow_velo_x', 'glove_elbow_velo_y',\n",
       "       'glove_elbow_velo_z', 'lead_hip_velo_x', 'lead_hip_velo_y',\n",
       "       'lead_hip_velo_z', 'lead_knee_velo_x', 'lead_knee_velo_y',\n",
       "       'lead_knee_velo_z', 'glove_shoulder_velo_x', 'glove_shoulder_velo_y',\n",
       "       'glove_shoulder_velo_z', 'glove_wrist_velo_x', 'glove_wrist_velo_y',\n",
       "       'glove_wrist_velo_z', 'torso_velo_x', 'torso_velo_y', 'torso_velo_z',\n",
       "       'torso_pelvis_velo_x', 'torso_pelvis_velo_y', 'torso_pelvis_velo_z',\n",
       "       'pkh_time', 'fp_10_time', 'fp_100_time', 'MER_time', 'BR_time',\n",
       "       'MIR_time'],\n",
       "      dtype='object')"
      ]
     },
     "execution_count": 21,
     "metadata": {},
     "output_type": "execute_result"
    }
   ],
   "source": [
    "joint_velos.columns"
   ]
  },
  {
   "cell_type": "code",
   "execution_count": 22,
   "id": "18eaf901-4146-41ca-90cd-d05a9f095074",
   "metadata": {},
   "outputs": [
    {
     "data": {
      "text/plain": [
       "Index(['session_pitch', 'time', 'rear_ankle_jc_x', 'rear_ankle_jc_y',\n",
       "       'rear_ankle_jc_z', 'rear_hip_x', 'rear_hip_y', 'rear_hip_z',\n",
       "       'elbow_jc_x', 'elbow_jc_y', 'elbow_jc_z', 'hand_jc_x', 'hand_jc_y',\n",
       "       'hand_jc_z', 'rear_knee_jc_x', 'rear_knee_jc_y', 'rear_knee_jc_z',\n",
       "       'shoulder_jc_x', 'shoulder_jc_y', 'shoulder_jc_z', 'wrist_jc_x',\n",
       "       'wrist_jc_y', 'wrist_jc_z', 'lead_ankle_jc_x', 'lead_ankle_jc_y',\n",
       "       'lead_ankle_jc_z', 'lead_hip_x', 'lead_hip_y', 'lead_hip_z',\n",
       "       'glove_elbow_jc_x', 'glove_elbow_jc_y', 'glove_elbow_jc_z',\n",
       "       'glove_hand_jc_x', 'glove_hand_jc_y', 'glove_hand_jc_z',\n",
       "       'lead_knee_jc_x', 'lead_knee_jc_y', 'lead_knee_jc_z',\n",
       "       'glove_shoulder_jc_x', 'glove_shoulder_jc_y', 'glove_shoulder_jc_z',\n",
       "       'glove_wrist_jc_x', 'glove_wrist_jc_y', 'glove_wrist_jc_z',\n",
       "       'thorax_ap_x', 'thorax_ap_y', 'thorax_ap_z', 'thorax_dist_x',\n",
       "       'thorax_dist_y', 'thorax_dist_z', 'thorax_prox_x', 'thorax_prox_y',\n",
       "       'thorax_prox_z', 'centerofmass_x', 'centerofmass_y', 'centerofmass_z',\n",
       "       'pkh_time', 'fp_10_time', 'fp_100_time', 'MER_time', 'BR_time',\n",
       "       'MIR_time'],\n",
       "      dtype='object')"
      ]
     },
     "execution_count": 22,
     "metadata": {},
     "output_type": "execute_result"
    }
   ],
   "source": [
    "landmarks.columns"
   ]
  },
  {
   "cell_type": "code",
   "execution_count": 24,
   "id": "0172fdd7-c084-44c2-b57c-331b072b6933",
   "metadata": {},
   "outputs": [
    {
     "ename": "KeyboardInterrupt",
     "evalue": "",
     "output_type": "error",
     "traceback": [
      "\u001b[0;31m---------------------------------------------------------------------------\u001b[0m",
      "\u001b[0;31mKeyboardInterrupt\u001b[0m                         Traceback (most recent call last)",
      "Cell \u001b[0;32mIn[24], line 6\u001b[0m\n\u001b[1;32m      4\u001b[0m         columns\u001b[38;5;241m.\u001b[39mappend(col)\n\u001b[1;32m      5\u001b[0m energy_flow\u001b[38;5;241m.\u001b[39mdrop(columns\u001b[38;5;241m=\u001b[39mcolumns, axis\u001b[38;5;241m=\u001b[39m\u001b[38;5;241m1\u001b[39m, inplace\u001b[38;5;241m=\u001b[39m\u001b[38;5;28;01mTrue\u001b[39;00m)\n\u001b[0;32m----> 6\u001b[0m poi_metadata \u001b[38;5;241m=\u001b[39m \u001b[43mpoi_metadata\u001b[49m\u001b[38;5;241;43m.\u001b[39;49m\u001b[43mmerge\u001b[49m\u001b[43m(\u001b[49m\u001b[43menergy_flow\u001b[49m\u001b[43m,\u001b[49m\u001b[43m \u001b[49m\u001b[43mleft_on\u001b[49m\u001b[43m \u001b[49m\u001b[38;5;241;43m=\u001b[39;49m\u001b[43m \u001b[49m\u001b[38;5;124;43m'\u001b[39;49m\u001b[38;5;124;43msession_pitch\u001b[39;49m\u001b[38;5;124;43m'\u001b[39;49m\u001b[43m,\u001b[49m\u001b[43m \u001b[49m\u001b[43mright_on\u001b[49m\u001b[38;5;241;43m=\u001b[39;49m\u001b[38;5;124;43m'\u001b[39;49m\u001b[38;5;124;43msession_pitch\u001b[39;49m\u001b[38;5;124;43m'\u001b[39;49m\u001b[43m,\u001b[49m\u001b[43m \u001b[49m\u001b[43mhow\u001b[49m\u001b[38;5;241;43m=\u001b[39;49m\u001b[38;5;124;43m'\u001b[39;49m\u001b[38;5;124;43mleft\u001b[39;49m\u001b[38;5;124;43m'\u001b[39;49m\u001b[43m)\u001b[49m\n",
      "File \u001b[0;32m~/anaconda3/lib/python3.10/site-packages/pandas/core/frame.py:10093\u001b[0m, in \u001b[0;36mDataFrame.merge\u001b[0;34m(self, right, how, on, left_on, right_on, left_index, right_index, sort, suffixes, copy, indicator, validate)\u001b[0m\n\u001b[1;32m  10074\u001b[0m \u001b[38;5;129m@Substitution\u001b[39m(\u001b[38;5;124m\"\u001b[39m\u001b[38;5;124m\"\u001b[39m)\n\u001b[1;32m  10075\u001b[0m \u001b[38;5;129m@Appender\u001b[39m(_merge_doc, indents\u001b[38;5;241m=\u001b[39m\u001b[38;5;241m2\u001b[39m)\n\u001b[1;32m  10076\u001b[0m \u001b[38;5;28;01mdef\u001b[39;00m \u001b[38;5;21mmerge\u001b[39m(\n\u001b[0;32m   (...)\u001b[0m\n\u001b[1;32m  10089\u001b[0m     validate: \u001b[38;5;28mstr\u001b[39m \u001b[38;5;241m|\u001b[39m \u001b[38;5;28;01mNone\u001b[39;00m \u001b[38;5;241m=\u001b[39m \u001b[38;5;28;01mNone\u001b[39;00m,\n\u001b[1;32m  10090\u001b[0m ) \u001b[38;5;241m-\u001b[39m\u001b[38;5;241m>\u001b[39m DataFrame:\n\u001b[1;32m  10091\u001b[0m     \u001b[38;5;28;01mfrom\u001b[39;00m \u001b[38;5;21;01mpandas\u001b[39;00m\u001b[38;5;21;01m.\u001b[39;00m\u001b[38;5;21;01mcore\u001b[39;00m\u001b[38;5;21;01m.\u001b[39;00m\u001b[38;5;21;01mreshape\u001b[39;00m\u001b[38;5;21;01m.\u001b[39;00m\u001b[38;5;21;01mmerge\u001b[39;00m \u001b[38;5;28;01mimport\u001b[39;00m merge\n\u001b[0;32m> 10093\u001b[0m     \u001b[38;5;28;01mreturn\u001b[39;00m \u001b[43mmerge\u001b[49m\u001b[43m(\u001b[49m\n\u001b[1;32m  10094\u001b[0m \u001b[43m        \u001b[49m\u001b[38;5;28;43mself\u001b[39;49m\u001b[43m,\u001b[49m\n\u001b[1;32m  10095\u001b[0m \u001b[43m        \u001b[49m\u001b[43mright\u001b[49m\u001b[43m,\u001b[49m\n\u001b[1;32m  10096\u001b[0m \u001b[43m        \u001b[49m\u001b[43mhow\u001b[49m\u001b[38;5;241;43m=\u001b[39;49m\u001b[43mhow\u001b[49m\u001b[43m,\u001b[49m\n\u001b[1;32m  10097\u001b[0m \u001b[43m        \u001b[49m\u001b[43mon\u001b[49m\u001b[38;5;241;43m=\u001b[39;49m\u001b[43mon\u001b[49m\u001b[43m,\u001b[49m\n\u001b[1;32m  10098\u001b[0m \u001b[43m        \u001b[49m\u001b[43mleft_on\u001b[49m\u001b[38;5;241;43m=\u001b[39;49m\u001b[43mleft_on\u001b[49m\u001b[43m,\u001b[49m\n\u001b[1;32m  10099\u001b[0m \u001b[43m        \u001b[49m\u001b[43mright_on\u001b[49m\u001b[38;5;241;43m=\u001b[39;49m\u001b[43mright_on\u001b[49m\u001b[43m,\u001b[49m\n\u001b[1;32m  10100\u001b[0m \u001b[43m        \u001b[49m\u001b[43mleft_index\u001b[49m\u001b[38;5;241;43m=\u001b[39;49m\u001b[43mleft_index\u001b[49m\u001b[43m,\u001b[49m\n\u001b[1;32m  10101\u001b[0m \u001b[43m        \u001b[49m\u001b[43mright_index\u001b[49m\u001b[38;5;241;43m=\u001b[39;49m\u001b[43mright_index\u001b[49m\u001b[43m,\u001b[49m\n\u001b[1;32m  10102\u001b[0m \u001b[43m        \u001b[49m\u001b[43msort\u001b[49m\u001b[38;5;241;43m=\u001b[39;49m\u001b[43msort\u001b[49m\u001b[43m,\u001b[49m\n\u001b[1;32m  10103\u001b[0m \u001b[43m        \u001b[49m\u001b[43msuffixes\u001b[49m\u001b[38;5;241;43m=\u001b[39;49m\u001b[43msuffixes\u001b[49m\u001b[43m,\u001b[49m\n\u001b[1;32m  10104\u001b[0m \u001b[43m        \u001b[49m\u001b[43mcopy\u001b[49m\u001b[38;5;241;43m=\u001b[39;49m\u001b[43mcopy\u001b[49m\u001b[43m,\u001b[49m\n\u001b[1;32m  10105\u001b[0m \u001b[43m        \u001b[49m\u001b[43mindicator\u001b[49m\u001b[38;5;241;43m=\u001b[39;49m\u001b[43mindicator\u001b[49m\u001b[43m,\u001b[49m\n\u001b[1;32m  10106\u001b[0m \u001b[43m        \u001b[49m\u001b[43mvalidate\u001b[49m\u001b[38;5;241;43m=\u001b[39;49m\u001b[43mvalidate\u001b[49m\u001b[43m,\u001b[49m\n\u001b[1;32m  10107\u001b[0m \u001b[43m    \u001b[49m\u001b[43m)\u001b[49m\n",
      "File \u001b[0;32m~/anaconda3/lib/python3.10/site-packages/pandas/core/reshape/merge.py:124\u001b[0m, in \u001b[0;36mmerge\u001b[0;34m(left, right, how, on, left_on, right_on, left_index, right_index, sort, suffixes, copy, indicator, validate)\u001b[0m\n\u001b[1;32m     93\u001b[0m \u001b[38;5;129m@Substitution\u001b[39m(\u001b[38;5;124m\"\u001b[39m\u001b[38;5;130;01m\\n\u001b[39;00m\u001b[38;5;124mleft : DataFrame or named Series\u001b[39m\u001b[38;5;124m\"\u001b[39m)\n\u001b[1;32m     94\u001b[0m \u001b[38;5;129m@Appender\u001b[39m(_merge_doc, indents\u001b[38;5;241m=\u001b[39m\u001b[38;5;241m0\u001b[39m)\n\u001b[1;32m     95\u001b[0m \u001b[38;5;28;01mdef\u001b[39;00m \u001b[38;5;21mmerge\u001b[39m(\n\u001b[0;32m   (...)\u001b[0m\n\u001b[1;32m    108\u001b[0m     validate: \u001b[38;5;28mstr\u001b[39m \u001b[38;5;241m|\u001b[39m \u001b[38;5;28;01mNone\u001b[39;00m \u001b[38;5;241m=\u001b[39m \u001b[38;5;28;01mNone\u001b[39;00m,\n\u001b[1;32m    109\u001b[0m ) \u001b[38;5;241m-\u001b[39m\u001b[38;5;241m>\u001b[39m DataFrame:\n\u001b[1;32m    110\u001b[0m     op \u001b[38;5;241m=\u001b[39m _MergeOperation(\n\u001b[1;32m    111\u001b[0m         left,\n\u001b[1;32m    112\u001b[0m         right,\n\u001b[0;32m   (...)\u001b[0m\n\u001b[1;32m    122\u001b[0m         validate\u001b[38;5;241m=\u001b[39mvalidate,\n\u001b[1;32m    123\u001b[0m     )\n\u001b[0;32m--> 124\u001b[0m     \u001b[38;5;28;01mreturn\u001b[39;00m \u001b[43mop\u001b[49m\u001b[38;5;241;43m.\u001b[39;49m\u001b[43mget_result\u001b[49m\u001b[43m(\u001b[49m\u001b[43mcopy\u001b[49m\u001b[38;5;241;43m=\u001b[39;49m\u001b[43mcopy\u001b[49m\u001b[43m)\u001b[49m\n",
      "File \u001b[0;32m~/anaconda3/lib/python3.10/site-packages/pandas/core/reshape/merge.py:775\u001b[0m, in \u001b[0;36m_MergeOperation.get_result\u001b[0;34m(self, copy)\u001b[0m\n\u001b[1;32m    771\u001b[0m     \u001b[38;5;28mself\u001b[39m\u001b[38;5;241m.\u001b[39mleft, \u001b[38;5;28mself\u001b[39m\u001b[38;5;241m.\u001b[39mright \u001b[38;5;241m=\u001b[39m \u001b[38;5;28mself\u001b[39m\u001b[38;5;241m.\u001b[39m_indicator_pre_merge(\u001b[38;5;28mself\u001b[39m\u001b[38;5;241m.\u001b[39mleft, \u001b[38;5;28mself\u001b[39m\u001b[38;5;241m.\u001b[39mright)\n\u001b[1;32m    773\u001b[0m join_index, left_indexer, right_indexer \u001b[38;5;241m=\u001b[39m \u001b[38;5;28mself\u001b[39m\u001b[38;5;241m.\u001b[39m_get_join_info()\n\u001b[0;32m--> 775\u001b[0m result \u001b[38;5;241m=\u001b[39m \u001b[38;5;28;43mself\u001b[39;49m\u001b[38;5;241;43m.\u001b[39;49m\u001b[43m_reindex_and_concat\u001b[49m\u001b[43m(\u001b[49m\n\u001b[1;32m    776\u001b[0m \u001b[43m    \u001b[49m\u001b[43mjoin_index\u001b[49m\u001b[43m,\u001b[49m\u001b[43m \u001b[49m\u001b[43mleft_indexer\u001b[49m\u001b[43m,\u001b[49m\u001b[43m \u001b[49m\u001b[43mright_indexer\u001b[49m\u001b[43m,\u001b[49m\u001b[43m \u001b[49m\u001b[43mcopy\u001b[49m\u001b[38;5;241;43m=\u001b[39;49m\u001b[43mcopy\u001b[49m\n\u001b[1;32m    777\u001b[0m \u001b[43m\u001b[49m\u001b[43m)\u001b[49m\n\u001b[1;32m    778\u001b[0m result \u001b[38;5;241m=\u001b[39m result\u001b[38;5;241m.\u001b[39m__finalize__(\u001b[38;5;28mself\u001b[39m, method\u001b[38;5;241m=\u001b[39m\u001b[38;5;28mself\u001b[39m\u001b[38;5;241m.\u001b[39m_merge_type)\n\u001b[1;32m    780\u001b[0m \u001b[38;5;28;01mif\u001b[39;00m \u001b[38;5;28mself\u001b[39m\u001b[38;5;241m.\u001b[39mindicator:\n",
      "File \u001b[0;32m~/anaconda3/lib/python3.10/site-packages/pandas/core/reshape/merge.py:737\u001b[0m, in \u001b[0;36m_MergeOperation._reindex_and_concat\u001b[0;34m(self, join_index, left_indexer, right_indexer, copy)\u001b[0m\n\u001b[1;32m    729\u001b[0m llabels, rlabels \u001b[38;5;241m=\u001b[39m _items_overlap_with_suffix(\n\u001b[1;32m    730\u001b[0m     \u001b[38;5;28mself\u001b[39m\u001b[38;5;241m.\u001b[39mleft\u001b[38;5;241m.\u001b[39m_info_axis, \u001b[38;5;28mself\u001b[39m\u001b[38;5;241m.\u001b[39mright\u001b[38;5;241m.\u001b[39m_info_axis, \u001b[38;5;28mself\u001b[39m\u001b[38;5;241m.\u001b[39msuffixes\n\u001b[1;32m    731\u001b[0m )\n\u001b[1;32m    733\u001b[0m \u001b[38;5;28;01mif\u001b[39;00m left_indexer \u001b[38;5;129;01mis\u001b[39;00m \u001b[38;5;129;01mnot\u001b[39;00m \u001b[38;5;28;01mNone\u001b[39;00m:\n\u001b[1;32m    734\u001b[0m     \u001b[38;5;66;03m# Pinning the index here (and in the right code just below) is not\u001b[39;00m\n\u001b[1;32m    735\u001b[0m     \u001b[38;5;66;03m#  necessary, but makes the `.take` more performant if we have e.g.\u001b[39;00m\n\u001b[1;32m    736\u001b[0m     \u001b[38;5;66;03m#  a MultiIndex for left.index.\u001b[39;00m\n\u001b[0;32m--> 737\u001b[0m     lmgr \u001b[38;5;241m=\u001b[39m \u001b[43mleft\u001b[49m\u001b[38;5;241;43m.\u001b[39;49m\u001b[43m_mgr\u001b[49m\u001b[38;5;241;43m.\u001b[39;49m\u001b[43mreindex_indexer\u001b[49m\u001b[43m(\u001b[49m\n\u001b[1;32m    738\u001b[0m \u001b[43m        \u001b[49m\u001b[43mjoin_index\u001b[49m\u001b[43m,\u001b[49m\n\u001b[1;32m    739\u001b[0m \u001b[43m        \u001b[49m\u001b[43mleft_indexer\u001b[49m\u001b[43m,\u001b[49m\n\u001b[1;32m    740\u001b[0m \u001b[43m        \u001b[49m\u001b[43maxis\u001b[49m\u001b[38;5;241;43m=\u001b[39;49m\u001b[38;5;241;43m1\u001b[39;49m\u001b[43m,\u001b[49m\n\u001b[1;32m    741\u001b[0m \u001b[43m        \u001b[49m\u001b[43mcopy\u001b[49m\u001b[38;5;241;43m=\u001b[39;49m\u001b[38;5;28;43;01mFalse\u001b[39;49;00m\u001b[43m,\u001b[49m\n\u001b[1;32m    742\u001b[0m \u001b[43m        \u001b[49m\u001b[43monly_slice\u001b[49m\u001b[38;5;241;43m=\u001b[39;49m\u001b[38;5;28;43;01mTrue\u001b[39;49;00m\u001b[43m,\u001b[49m\n\u001b[1;32m    743\u001b[0m \u001b[43m        \u001b[49m\u001b[43mallow_dups\u001b[49m\u001b[38;5;241;43m=\u001b[39;49m\u001b[38;5;28;43;01mTrue\u001b[39;49;00m\u001b[43m,\u001b[49m\n\u001b[1;32m    744\u001b[0m \u001b[43m        \u001b[49m\u001b[43muse_na_proxy\u001b[49m\u001b[38;5;241;43m=\u001b[39;49m\u001b[38;5;28;43;01mTrue\u001b[39;49;00m\u001b[43m,\u001b[49m\n\u001b[1;32m    745\u001b[0m \u001b[43m    \u001b[49m\u001b[43m)\u001b[49m\n\u001b[1;32m    746\u001b[0m     left \u001b[38;5;241m=\u001b[39m left\u001b[38;5;241m.\u001b[39m_constructor(lmgr)\n\u001b[1;32m    747\u001b[0m left\u001b[38;5;241m.\u001b[39mindex \u001b[38;5;241m=\u001b[39m join_index\n",
      "File \u001b[0;32m~/anaconda3/lib/python3.10/site-packages/pandas/core/internals/managers.py:751\u001b[0m, in \u001b[0;36mBaseBlockManager.reindex_indexer\u001b[0;34m(self, new_axis, indexer, axis, fill_value, allow_dups, copy, only_slice, use_na_proxy)\u001b[0m\n\u001b[1;32m    749\u001b[0m     parent \u001b[38;5;241m=\u001b[39m \u001b[38;5;28;01mNone\u001b[39;00m \u001b[38;5;28;01mif\u001b[39;00m com\u001b[38;5;241m.\u001b[39mall_none(\u001b[38;5;241m*\u001b[39mnew_refs) \u001b[38;5;28;01melse\u001b[39;00m \u001b[38;5;28mself\u001b[39m\n\u001b[1;32m    750\u001b[0m \u001b[38;5;28;01melse\u001b[39;00m:\n\u001b[0;32m--> 751\u001b[0m     new_blocks \u001b[38;5;241m=\u001b[39m [\n\u001b[1;32m    752\u001b[0m         blk\u001b[38;5;241m.\u001b[39mtake_nd(\n\u001b[1;32m    753\u001b[0m             indexer,\n\u001b[1;32m    754\u001b[0m             axis\u001b[38;5;241m=\u001b[39m\u001b[38;5;241m1\u001b[39m,\n\u001b[1;32m    755\u001b[0m             fill_value\u001b[38;5;241m=\u001b[39m(\n\u001b[1;32m    756\u001b[0m                 fill_value \u001b[38;5;28;01mif\u001b[39;00m fill_value \u001b[38;5;129;01mis\u001b[39;00m \u001b[38;5;129;01mnot\u001b[39;00m \u001b[38;5;28;01mNone\u001b[39;00m \u001b[38;5;28;01melse\u001b[39;00m blk\u001b[38;5;241m.\u001b[39mfill_value\n\u001b[1;32m    757\u001b[0m             ),\n\u001b[1;32m    758\u001b[0m         )\n\u001b[1;32m    759\u001b[0m         \u001b[38;5;28;01mfor\u001b[39;00m blk \u001b[38;5;129;01min\u001b[39;00m \u001b[38;5;28mself\u001b[39m\u001b[38;5;241m.\u001b[39mblocks\n\u001b[1;32m    760\u001b[0m     ]\n\u001b[1;32m    761\u001b[0m     new_refs \u001b[38;5;241m=\u001b[39m \u001b[38;5;28;01mNone\u001b[39;00m\n\u001b[1;32m    762\u001b[0m     parent \u001b[38;5;241m=\u001b[39m \u001b[38;5;28;01mNone\u001b[39;00m\n",
      "File \u001b[0;32m~/anaconda3/lib/python3.10/site-packages/pandas/core/internals/managers.py:752\u001b[0m, in \u001b[0;36m<listcomp>\u001b[0;34m(.0)\u001b[0m\n\u001b[1;32m    749\u001b[0m     parent \u001b[38;5;241m=\u001b[39m \u001b[38;5;28;01mNone\u001b[39;00m \u001b[38;5;28;01mif\u001b[39;00m com\u001b[38;5;241m.\u001b[39mall_none(\u001b[38;5;241m*\u001b[39mnew_refs) \u001b[38;5;28;01melse\u001b[39;00m \u001b[38;5;28mself\u001b[39m\n\u001b[1;32m    750\u001b[0m \u001b[38;5;28;01melse\u001b[39;00m:\n\u001b[1;32m    751\u001b[0m     new_blocks \u001b[38;5;241m=\u001b[39m [\n\u001b[0;32m--> 752\u001b[0m         \u001b[43mblk\u001b[49m\u001b[38;5;241;43m.\u001b[39;49m\u001b[43mtake_nd\u001b[49m\u001b[43m(\u001b[49m\n\u001b[1;32m    753\u001b[0m \u001b[43m            \u001b[49m\u001b[43mindexer\u001b[49m\u001b[43m,\u001b[49m\n\u001b[1;32m    754\u001b[0m \u001b[43m            \u001b[49m\u001b[43maxis\u001b[49m\u001b[38;5;241;43m=\u001b[39;49m\u001b[38;5;241;43m1\u001b[39;49m\u001b[43m,\u001b[49m\n\u001b[1;32m    755\u001b[0m \u001b[43m            \u001b[49m\u001b[43mfill_value\u001b[49m\u001b[38;5;241;43m=\u001b[39;49m\u001b[43m(\u001b[49m\n\u001b[1;32m    756\u001b[0m \u001b[43m                \u001b[49m\u001b[43mfill_value\u001b[49m\u001b[43m \u001b[49m\u001b[38;5;28;43;01mif\u001b[39;49;00m\u001b[43m \u001b[49m\u001b[43mfill_value\u001b[49m\u001b[43m \u001b[49m\u001b[38;5;129;43;01mis\u001b[39;49;00m\u001b[43m \u001b[49m\u001b[38;5;129;43;01mnot\u001b[39;49;00m\u001b[43m \u001b[49m\u001b[38;5;28;43;01mNone\u001b[39;49;00m\u001b[43m \u001b[49m\u001b[38;5;28;43;01melse\u001b[39;49;00m\u001b[43m \u001b[49m\u001b[43mblk\u001b[49m\u001b[38;5;241;43m.\u001b[39;49m\u001b[43mfill_value\u001b[49m\n\u001b[1;32m    757\u001b[0m \u001b[43m            \u001b[49m\u001b[43m)\u001b[49m\u001b[43m,\u001b[49m\n\u001b[1;32m    758\u001b[0m \u001b[43m        \u001b[49m\u001b[43m)\u001b[49m\n\u001b[1;32m    759\u001b[0m         \u001b[38;5;28;01mfor\u001b[39;00m blk \u001b[38;5;129;01min\u001b[39;00m \u001b[38;5;28mself\u001b[39m\u001b[38;5;241m.\u001b[39mblocks\n\u001b[1;32m    760\u001b[0m     ]\n\u001b[1;32m    761\u001b[0m     new_refs \u001b[38;5;241m=\u001b[39m \u001b[38;5;28;01mNone\u001b[39;00m\n\u001b[1;32m    762\u001b[0m     parent \u001b[38;5;241m=\u001b[39m \u001b[38;5;28;01mNone\u001b[39;00m\n",
      "File \u001b[0;32m~/anaconda3/lib/python3.10/site-packages/pandas/core/internals/blocks.py:880\u001b[0m, in \u001b[0;36mBlock.take_nd\u001b[0;34m(self, indexer, axis, new_mgr_locs, fill_value)\u001b[0m\n\u001b[1;32m    877\u001b[0m     allow_fill \u001b[38;5;241m=\u001b[39m \u001b[38;5;28;01mTrue\u001b[39;00m\n\u001b[1;32m    879\u001b[0m \u001b[38;5;66;03m# Note: algos.take_nd has upcast logic similar to coerce_to_target_dtype\u001b[39;00m\n\u001b[0;32m--> 880\u001b[0m new_values \u001b[38;5;241m=\u001b[39m \u001b[43malgos\u001b[49m\u001b[38;5;241;43m.\u001b[39;49m\u001b[43mtake_nd\u001b[49m\u001b[43m(\u001b[49m\n\u001b[1;32m    881\u001b[0m \u001b[43m    \u001b[49m\u001b[43mvalues\u001b[49m\u001b[43m,\u001b[49m\u001b[43m \u001b[49m\u001b[43mindexer\u001b[49m\u001b[43m,\u001b[49m\u001b[43m \u001b[49m\u001b[43maxis\u001b[49m\u001b[38;5;241;43m=\u001b[39;49m\u001b[43maxis\u001b[49m\u001b[43m,\u001b[49m\u001b[43m \u001b[49m\u001b[43mallow_fill\u001b[49m\u001b[38;5;241;43m=\u001b[39;49m\u001b[43mallow_fill\u001b[49m\u001b[43m,\u001b[49m\u001b[43m \u001b[49m\u001b[43mfill_value\u001b[49m\u001b[38;5;241;43m=\u001b[39;49m\u001b[43mfill_value\u001b[49m\n\u001b[1;32m    882\u001b[0m \u001b[43m\u001b[49m\u001b[43m)\u001b[49m\n\u001b[1;32m    884\u001b[0m \u001b[38;5;66;03m# Called from three places in managers, all of which satisfy\u001b[39;00m\n\u001b[1;32m    885\u001b[0m \u001b[38;5;66;03m#  this assertion\u001b[39;00m\n\u001b[1;32m    886\u001b[0m \u001b[38;5;28;01massert\u001b[39;00m \u001b[38;5;129;01mnot\u001b[39;00m (axis \u001b[38;5;241m==\u001b[39m \u001b[38;5;241m0\u001b[39m \u001b[38;5;129;01mand\u001b[39;00m new_mgr_locs \u001b[38;5;129;01mis\u001b[39;00m \u001b[38;5;28;01mNone\u001b[39;00m)\n",
      "File \u001b[0;32m~/anaconda3/lib/python3.10/site-packages/pandas/core/array_algos/take.py:117\u001b[0m, in \u001b[0;36mtake_nd\u001b[0;34m(arr, indexer, axis, fill_value, allow_fill)\u001b[0m\n\u001b[1;32m    114\u001b[0m     \u001b[38;5;28;01mreturn\u001b[39;00m arr\u001b[38;5;241m.\u001b[39mtake(indexer, fill_value\u001b[38;5;241m=\u001b[39mfill_value, allow_fill\u001b[38;5;241m=\u001b[39mallow_fill)\n\u001b[1;32m    116\u001b[0m arr \u001b[38;5;241m=\u001b[39m np\u001b[38;5;241m.\u001b[39masarray(arr)\n\u001b[0;32m--> 117\u001b[0m \u001b[38;5;28;01mreturn\u001b[39;00m \u001b[43m_take_nd_ndarray\u001b[49m\u001b[43m(\u001b[49m\u001b[43marr\u001b[49m\u001b[43m,\u001b[49m\u001b[43m \u001b[49m\u001b[43mindexer\u001b[49m\u001b[43m,\u001b[49m\u001b[43m \u001b[49m\u001b[43maxis\u001b[49m\u001b[43m,\u001b[49m\u001b[43m \u001b[49m\u001b[43mfill_value\u001b[49m\u001b[43m,\u001b[49m\u001b[43m \u001b[49m\u001b[43mallow_fill\u001b[49m\u001b[43m)\u001b[49m\n",
      "File \u001b[0;32m~/anaconda3/lib/python3.10/site-packages/pandas/core/array_algos/take.py:163\u001b[0m, in \u001b[0;36m_take_nd_ndarray\u001b[0;34m(arr, indexer, axis, fill_value, allow_fill)\u001b[0m\n\u001b[1;32m    158\u001b[0m     out \u001b[38;5;241m=\u001b[39m np\u001b[38;5;241m.\u001b[39mempty(out_shape, dtype\u001b[38;5;241m=\u001b[39mdtype)\n\u001b[1;32m    160\u001b[0m func \u001b[38;5;241m=\u001b[39m _get_take_nd_function(\n\u001b[1;32m    161\u001b[0m     arr\u001b[38;5;241m.\u001b[39mndim, arr\u001b[38;5;241m.\u001b[39mdtype, out\u001b[38;5;241m.\u001b[39mdtype, axis\u001b[38;5;241m=\u001b[39maxis, mask_info\u001b[38;5;241m=\u001b[39mmask_info\n\u001b[1;32m    162\u001b[0m )\n\u001b[0;32m--> 163\u001b[0m \u001b[43mfunc\u001b[49m\u001b[43m(\u001b[49m\u001b[43marr\u001b[49m\u001b[43m,\u001b[49m\u001b[43m \u001b[49m\u001b[43mindexer\u001b[49m\u001b[43m,\u001b[49m\u001b[43m \u001b[49m\u001b[43mout\u001b[49m\u001b[43m,\u001b[49m\u001b[43m \u001b[49m\u001b[43mfill_value\u001b[49m\u001b[43m)\u001b[49m\n\u001b[1;32m    165\u001b[0m \u001b[38;5;28;01mif\u001b[39;00m flip_order:\n\u001b[1;32m    166\u001b[0m     out \u001b[38;5;241m=\u001b[39m out\u001b[38;5;241m.\u001b[39mT\n",
      "\u001b[0;31mKeyboardInterrupt\u001b[0m: "
     ]
    }
   ],
   "source": [
    "columns = []\n",
    "for col in energy_flow.columns:\n",
    "    if col in poi_metadata.columns and col != 'session_pitch':\n",
    "        columns.append(col)\n",
    "energy_flow.drop(columns=columns, axis=1, inplace=True)\n",
    "poi_metadata = poi_metadata.merge(energy_flow, left_on = 'session_pitch', right_on='session_pitch', how='left')"
   ]
  },
  {
   "cell_type": "code",
   "execution_count": null,
   "id": "c2bc6f13-ad68-4413-9c51-53d8b5f6743f",
   "metadata": {},
   "outputs": [],
   "source": [
    "columns = []\n",
    "for col in force_plate.columns:\n",
    "    if col in poi_metadata.columns and col != 'session_pitch':\n",
    "        columns.append(col)\n",
    "force_plate.drop(columns=columns, axis=1, inplace=True)\n",
    "poi_metadata = poi_metadata.merge(force_plate, left_on = 'session_pitch', right_on='session_pitch', how='left')"
   ]
  },
  {
   "cell_type": "code",
   "execution_count": null,
   "id": "1e576356-8fc3-47f6-a2a3-d5e26e266508",
   "metadata": {},
   "outputs": [],
   "source": [
    "columns = []\n",
    "for col in forces_moments.columns:\n",
    "    if col in poi_metadata.columns and col != 'session_pitch':\n",
    "        columns.append(col)\n",
    "forces_moments.drop(columns=columns, axis=1, inplace=True)\n",
    "poi_metadata = poi_metadata.merge(forces_moments, left_on = 'session_pitch', right_on='session_pitch', how='left')"
   ]
  },
  {
   "cell_type": "code",
   "execution_count": null,
   "id": "fff56346-2da3-4558-b1f5-87e7988121f7",
   "metadata": {},
   "outputs": [],
   "source": [
    "columns = []\n",
    "for col in joint_angles.columns:\n",
    "    if col in poi_metadata.columns and col != 'session_pitch':\n",
    "        columns.append(col)\n",
    "joint_angles.drop(columns=columns, axis=1, inplace=True)\n",
    "poi_metadata = poi_metadata.merge(joint_angles, left_on = 'session_pitch', right_on='session_pitch', how='left')"
   ]
  },
  {
   "cell_type": "code",
   "execution_count": null,
   "id": "8df98398-ce33-4259-b9ea-65b8c93f0b5c",
   "metadata": {},
   "outputs": [],
   "source": [
    "columns = []\n",
    "for col in joint_velos.columns:\n",
    "    if col in poi_metadata.columns and col != 'session_pitch':\n",
    "        columns.append(col)\n",
    "joint_velos.drop(columns=columns, axis=1, inplace=True)\n",
    "poi_metadata = poi_metadata.merge(joint_velos, left_on = 'session_pitch', right_on='session_pitch', how='left')"
   ]
  },
  {
   "cell_type": "code",
   "execution_count": null,
   "id": "46a8c16a-c18b-4a72-919c-d44e63e48fa6",
   "metadata": {},
   "outputs": [],
   "source": [
    "columns = []\n",
    "for col in landmarks.columns:\n",
    "    if col in poi_metadata.columns and col != 'session_pitch':\n",
    "        columns.append(col)\n",
    "landmarks.drop(columns=columns, axis=1, inplace=True)\n",
    "poi_metadata = poi_metadata.merge(landmarks, left_on = 'session_pitch', right_on='session_pitch', how='left')"
   ]
  },
  {
   "cell_type": "code",
   "execution_count": null,
   "id": "9d0056ce-3382-4199-92ea-dd97d3c80092",
   "metadata": {},
   "outputs": [],
   "source": [
    "poi_metadata"
   ]
  },
  {
   "cell_type": "code",
   "execution_count": null,
   "id": "41558802-7ee0-4e91-8955-6063c63b7361",
   "metadata": {},
   "outputs": [],
   "source": [
    "poi_metadata.columns"
   ]
  },
  {
   "cell_type": "code",
   "execution_count": null,
   "id": "4f665bd9-c4cb-4599-b4ac-1907c3d7f05c",
   "metadata": {},
   "outputs": [],
   "source": []
  }
 ],
 "metadata": {
  "kernelspec": {
   "display_name": "Python 3 (ipykernel)",
   "language": "python",
   "name": "python3"
  },
  "language_info": {
   "codemirror_mode": {
    "name": "ipython",
    "version": 3
   },
   "file_extension": ".py",
   "mimetype": "text/x-python",
   "name": "python",
   "nbconvert_exporter": "python",
   "pygments_lexer": "ipython3",
   "version": "3.10.9"
  }
 },
 "nbformat": 4,
 "nbformat_minor": 5
}
